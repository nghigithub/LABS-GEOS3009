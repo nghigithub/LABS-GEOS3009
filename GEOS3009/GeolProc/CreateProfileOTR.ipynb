{
 "cells": [
  {
   "cell_type": "markdown",
   "metadata": {},
   "source": [
    "# How to create a OTR profile\n",
    "\n",
    "To create OTR profile for the lab, I used IPython but you can do that with something else (excell, matlab, C, fortran, you name it!)"
   ]
  },
  {
   "cell_type": "code",
   "execution_count": null,
   "metadata": {
    "collapsed": true
   },
   "outputs": [],
   "source": [
    "%matplotlib inline\n",
    "import numpy as np\n",
    "import matplotlib.pyplot as plt"
   ]
  },
  {
   "cell_type": "markdown",
   "metadata": {},
   "source": [
    "## Create new directories\n",
    "\n",
    "First we will create a new folder where we will put our profile"
   ]
  },
  {
   "cell_type": "code",
   "execution_count": null,
   "metadata": {
    "collapsed": false
   },
   "outputs": [],
   "source": [
    "#!mkdir /workspace/GeolProc/OTR"
   ]
  },
  {
   "cell_type": "markdown",
   "metadata": {},
   "source": [
    "## Define Y-axis\n",
    "\n",
    "Creating a regularly space data between 2 points is easy with **numpy** library:"
   ]
  },
  {
   "cell_type": "code",
   "execution_count": null,
   "metadata": {
    "collapsed": false
   },
   "outputs": [],
   "source": [
    "Yaxis = np.arange(-500.,7750.,150)"
   ]
  },
  {
   "cell_type": "markdown",
   "metadata": {},
   "source": [
    "## Define X-axis\n",
    "\n",
    "To create the X-axis which is the extend of our 2D profile along the axis, you can use again the **numpy** library"
   ]
  },
  {
   "cell_type": "code",
   "execution_count": null,
   "metadata": {
    "collapsed": false
   },
   "outputs": [],
   "source": [
    "Xaxis = np.arange(0.,1250.,150)"
   ]
  },
  {
   "cell_type": "markdown",
   "metadata": {},
   "source": [
    "We can visualise the discretisation along each axes:"
   ]
  },
  {
   "cell_type": "code",
   "execution_count": null,
   "metadata": {
    "collapsed": false
   },
   "outputs": [],
   "source": [
    "print len(Xaxis),len(Yaxis)\n",
    "print Xaxis\n",
    "print Yaxis"
   ]
  },
  {
   "cell_type": "markdown",
   "metadata": {},
   "source": [
    "## Define Profile elevation\n",
    "\n",
    "I will create a profile based on the One Tree Reef cross-section."
   ]
  },
  {
   "cell_type": "code",
   "execution_count": null,
   "metadata": {
    "collapsed": false
   },
   "outputs": [],
   "source": [
    "Z1axis = np.zeros(len(Yaxis))\n",
    "for i in range(len(Yaxis)):\n",
    "    if Yaxis[i] <= 0:\n",
    "        Z1axis[i] = -39\n",
    "    elif Yaxis[i] > 0 and Yaxis[i] <= 1200:\n",
    "        z = np.exp(0.0027*Yaxis[i])-40.\n",
    "        Z1axis[i] = z\n",
    "    elif Yaxis[i] > 1200 and Yaxis[i] <= 1600:\n",
    "        Z1axis[i] = Z1axis[i-1]\n",
    "    elif Yaxis[i] > 1600 and Yaxis[i] <= 3500 :\n",
    "        z = (np.exp(-(Yaxis[i]-1600)/1000)-1.)*10.-17\n",
    "        if z >= -23:\n",
    "            Z1axis[i] = z\n",
    "        else:\n",
    "            Z1axis[i] = -23.\n",
    "    elif Yaxis[i] > 3500 and Yaxis[i] <= 5400 :\n",
    "        z = (np.exp(-(5400-Yaxis[i])/1000)-1.)*10.-15\n",
    "        if z >= -23:\n",
    "            Z1axis[i] = z\n",
    "        else:\n",
    "            Z1axis[i] = -23.\n",
    "    elif Yaxis[i] > 5400 and Yaxis[i] <= 6000 :\n",
    "        Z1axis[i] = Z1axis[i-1]\n",
    "    elif Yaxis[i] > 6000 and Yaxis[i] <= 7200 :\n",
    "        z = np.exp(0.0027*(7200-Yaxis[i]))-40.\n",
    "        Z1axis[i] = z\n",
    "        id = i\n",
    "    else:\n",
    "        Z1axis[i] = -39\n",
    "Z1axis += 15"
   ]
  },
  {
   "cell_type": "code",
   "execution_count": null,
   "metadata": {
    "collapsed": false
   },
   "outputs": [],
   "source": [
    "fig = plt.figure(figsize=(10,5))\n",
    "ax = plt.axes(xlim=(min(Yaxis), max(Yaxis)), ylim=(min(Z1axis)-3, max(Z1axis)+10))\n",
    "plt.title('Simple OTR profile', fontsize=12)\n",
    "ax.set_ylabel('elevation [m]', fontsize=12)\n",
    "ax.set_xlabel('lenght [m]', fontsize=12)\n",
    "ax.plot(Yaxis,Z1axis,'-', lw=3,color=[139./255.,131./255.,120./255.])\n",
    "ax.fill_between(Yaxis, Z1axis, min(Z1axis)-3, where=Z1axis >= min(Z1axis)-10, facecolor=[1.0,0.9,0.6], interpolate=True)\n",
    "sea = 0\n",
    "ax.fill_between(Yaxis, Z1axis, sea, where= sea > Z1axis, facecolor=[0.7,0.9,1.0], interpolate=True)\n",
    "\n",
    "\n",
    "plt.setp(ax.get_xticklabels(), fontsize=10)\n",
    "plt.setp(ax.get_yticklabels(), fontsize=10)\n",
    "plt.show()"
   ]
  },
  {
   "cell_type": "markdown",
   "metadata": {},
   "source": [
    "# Building the surface"
   ]
  },
  {
   "cell_type": "code",
   "execution_count": null,
   "metadata": {
    "collapsed": false
   },
   "outputs": [],
   "source": [
    "# Initialise numpy arrays\n",
    "x = np.zeros((len(Yaxis),len(Xaxis)))\n",
    "y = np.zeros((len(Yaxis),len(Xaxis)))\n",
    "z = np.zeros((len(Yaxis),len(Xaxis)))\n",
    "\n",
    "# Define arrays values\n",
    "for i in range(len(Xaxis)):\n",
    "    for j in range(len(Yaxis)):\n",
    "        x[j,i] = Xaxis[i]\n",
    "        y[j,i] = Yaxis[j]\n",
    "        z[j,i] = Z1axis[j]"
   ]
  },
  {
   "cell_type": "markdown",
   "metadata": {},
   "source": [
    "# Saving the grid file"
   ]
  },
  {
   "cell_type": "code",
   "execution_count": null,
   "metadata": {
    "collapsed": false
   },
   "outputs": [],
   "source": [
    "topofile = 'OTR/otr'+str(len(Yaxis))+'x'+str(len(Xaxis))+'.top'\n",
    "np.savetxt(topofile, z, delimiter=' ', fmt='%g')\n",
    "print 'file saved in :',topofile"
   ]
  },
  {
   "cell_type": "code",
   "execution_count": null,
   "metadata": {
    "collapsed": true
   },
   "outputs": [],
   "source": []
  }
 ],
 "metadata": {
  "kernelspec": {
   "display_name": "Python 2",
   "language": "python",
   "name": "python2"
  },
  "language_info": {
   "codemirror_mode": {
    "name": "ipython",
    "version": 2
   },
   "file_extension": ".py",
   "mimetype": "text/x-python",
   "name": "python",
   "nbconvert_exporter": "python",
   "pygments_lexer": "ipython2",
   "version": "2.7.6"
  }
 },
 "nbformat": 4,
 "nbformat_minor": 0
}
