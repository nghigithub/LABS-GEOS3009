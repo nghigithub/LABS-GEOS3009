{
 "cells": [
  {
   "cell_type": "markdown",
   "metadata": {},
   "source": [
    "# Plotting Strataform results\n",
    "\n",
    "This notebook creates a cross-section along **Strataform** output. It will be handy to look at the stratigraphic stacking as well as the sediment heterogeneity in underlying layers.\n",
    "\n",
    "First, we need to import some library. As you can see below we import the **StrataPlot** module which is a python script that you can view in the `GeolProc` directory."
   ]
  },
  {
   "cell_type": "code",
   "execution_count": null,
   "metadata": {
    "collapsed": false
   },
   "outputs": [],
   "source": [
    "import numpy as np\n",
    "import StrataPlot as stratVis\n",
    "%matplotlib inline"
   ]
  },
  {
   "cell_type": "markdown",
   "metadata": {},
   "source": [
    "# Running Strataform\n",
    "\n",
    "To run **strataform** we need to move to the directory containing the input file. "
   ]
  },
  {
   "cell_type": "code",
   "execution_count": null,
   "metadata": {
    "collapsed": false
   },
   "outputs": [],
   "source": [
    "!ls OTR/"
   ]
  },
  {
   "cell_type": "markdown",
   "metadata": {},
   "source": [
    "In this first example we will use `OTRsim1.sif` located in the `OTR` folder. As for the XBeach example we will execute the code using the `!` command in front. It tells IPython that we want to use the `bash` mode. \n",
    "\n",
    "The command is:"
   ]
  },
  {
   "cell_type": "code",
   "execution_count": null,
   "metadata": {
    "collapsed": false
   },
   "outputs": [],
   "source": [
    "!cd OTR; strataform OTRsim1.sif"
   ]
  },
  {
   "cell_type": "markdown",
   "metadata": {},
   "source": [
    "# Load required files\n",
    "\n",
    "**Strataform** writes VTK files at user-defined interval. These files are in a folder which has the same name as your input file. We will load 2 files the basement to get the bottom of the stratigraphic layers and the stratigraphic record itself.\n",
    "\n",
    "In addition you will need to add the start and time of the run based on the input file chosen parameters."
   ]
  },
  {
   "cell_type": "code",
   "execution_count": null,
   "metadata": {
    "collapsed": false
   },
   "outputs": [],
   "source": [
    "!ls OTR/OTRsim1/OTRsim1"
   ]
  },
  {
   "cell_type": "code",
   "execution_count": null,
   "metadata": {
    "collapsed": false
   },
   "outputs": [],
   "source": [
    "filebase ='./OTR/OTRsim1/OTRsim1/OTRsim1_99_bas.vtu'\n",
    "filestrati ='./OTR/OTRsim1/OTRsim1/OTRsim1_99.vtu'\n",
    "\n",
    "# Simulation start and end times (in years)\n",
    "simStart = -1000000.\n",
    "simEnd = 1000000.\n",
    "\n",
    "# Number of stratigraphic layers recorded\n",
    "# This is the number at the end of the filestrati name + 1\n",
    "lays = 100\n",
    "\n",
    "# Ellapsed time between 2 stratigraphic layers (in years)\n",
    "dt = (simEnd-simStart)/lays\n",
    "\n",
    "# Read and create relevant numpy arrays for plotting\n",
    "minBase,x,y,z,mgz,age = stratVis.read_VTK(filebase,filestrati,simStart)"
   ]
  },
  {
   "cell_type": "markdown",
   "metadata": {},
   "source": [
    "# Visualise sea-level fluctuations\n",
    "\n",
    "In case you have loaded a sea-level file you can visualise it from the cell below."
   ]
  },
  {
   "cell_type": "code",
   "execution_count": null,
   "metadata": {
    "collapsed": false
   },
   "outputs": [],
   "source": [
    "#seafile = './strataGeo/data/sine_2cycle_rsl.sl'\n",
    "#SLtime,sealevel = stratVis.read_seaLevel(seafile)"
   ]
  },
  {
   "cell_type": "markdown",
   "metadata": {},
   "source": [
    "# Interpolate the unstructured dataset to a regular grid\n",
    "\n",
    "We now interpolate the data over a regular points. We need to take care of the sedimentary hiatus from the stratigraphic records. To do the regridding we use the function `mapData_Reg`."
   ]
  },
  {
   "cell_type": "code",
   "execution_count": null,
   "metadata": {
    "collapsed": false
   },
   "outputs": [],
   "source": [
    "# Set the regular grid resolution (in meters)\n",
    "res = 5.0\n",
    "\n",
    "nlays,xi,yi,zi,mzi,nxi,nyi = stratVis.mapData_Reg(lays,x,y,z,mgz,age,res,simStart,dt)"
   ]
  },
  {
   "cell_type": "markdown",
   "metadata": {},
   "source": [
    "# Y-slicing the stratigraphic volume"
   ]
  },
  {
   "cell_type": "markdown",
   "metadata": {},
   "source": [
    "We now extract a slice along the Y-axis using in this case the middle of the simulation which is 20 km x 20 km."
   ]
  },
  {
   "cell_type": "code",
   "execution_count": null,
   "metadata": {
    "collapsed": false
   },
   "outputs": [],
   "source": [
    "# X-axis value for the Y cross-section (in meters)\n",
    "posX = 500.\n",
    "# sea-level final sea-level position\n",
    "slvl = 0.\n",
    "# Get Y cross-section\n",
    "Ysec,base,sl,xID = stratVis.crossYsection(posX,res,xi,yi,nxi,nyi,minBase,slvl)"
   ]
  },
  {
   "cell_type": "markdown",
   "metadata": {},
   "source": [
    "Using the cross-section defined above we plot the time layer evolution of the **Strataform** model."
   ]
  },
  {
   "cell_type": "code",
   "execution_count": null,
   "metadata": {
    "collapsed": false
   },
   "outputs": [],
   "source": [
    "# Size of the figure\n",
    "figS = [15,6]\n",
    "# Y and Z axis clipping values\n",
    "ylim = [-500,7500]\n",
    "zlim = [-30,20]\n",
    "# Frequency of layer outputs\n",
    "layplot = 10\n",
    "stratVis.plotYtime(figS,Ysec,zi,xID,base,minBase,sl,nlays,layplot,ylim,zlim)"
   ]
  },
  {
   "cell_type": "markdown",
   "metadata": {},
   "source": [
    "# Visualising sediments heterogeneities along Y-axis"
   ]
  },
  {
   "cell_type": "markdown",
   "metadata": {},
   "source": [
    "Using the same approach, we plot the mean grain size (in mm) for each of the stratigraphic layers. "
   ]
  },
  {
   "cell_type": "code",
   "execution_count": null,
   "metadata": {
    "collapsed": false
   },
   "outputs": [],
   "source": [
    "'''\n",
    "Define the number of points for mean grain size interpolation along the z axis\n",
    " - first value is Z bottom, \n",
    " - second value is the maximum elevation of your interpolation grid\n",
    " - third parameter is the number of point along the Z axis \n",
    " which in the case below means that we will put a point every 1 m\n",
    "'''\n",
    "mgzYGridRes = [-40, 20, 241]\n",
    "mgzY,zY = stratVis.getYmgz(Ysec,zi,yi,mzi,nlays,xID,mgzYGridRes)\n",
    "\n",
    "# Plot the mean grain zise along the Y-axis\n",
    "figS = [15,6]\n",
    "# Y and Z axis clipping values\n",
    "ylim = [-500,7500]\n",
    "zlim = [-30,20]\n",
    "# Frequency of layer outputs\n",
    "layplot = 10\n",
    "stratVis.plotYmgzReef(figS,Ysec,zi,zY,mgzY,nlays,xID,ylim,zlim,minBase,sl,layplot)"
   ]
  },
  {
   "cell_type": "code",
   "execution_count": null,
   "metadata": {
    "collapsed": true
   },
   "outputs": [],
   "source": []
  },
  {
   "cell_type": "code",
   "execution_count": null,
   "metadata": {
    "collapsed": true
   },
   "outputs": [],
   "source": []
  }
 ],
 "metadata": {
  "kernelspec": {
   "display_name": "Python 2",
   "language": "python",
   "name": "python2"
  },
  "language_info": {
   "codemirror_mode": {
    "name": "ipython",
    "version": 2
   },
   "file_extension": ".py",
   "mimetype": "text/x-python",
   "name": "python",
   "nbconvert_exporter": "python",
   "pygments_lexer": "ipython2",
   "version": "2.7.9"
  }
 },
 "nbformat": 4,
 "nbformat_minor": 0
}
