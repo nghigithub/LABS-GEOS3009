{
 "cells": [
  {
   "cell_type": "markdown",
   "metadata": {},
   "source": [
    "# XBeach profile evolution\n",
    "\n",
    "Once your model finished running, it is time to have a look at the model netCDF outputs. XBeach generates a single NC file with all data in it. \n",
    "\n",
    "First we need to load the IPython libraries:"
   ]
  },
  {
   "cell_type": "code",
   "execution_count": null,
   "metadata": {
    "collapsed": false
   },
   "outputs": [],
   "source": [
    "%pylab inline\n",
    "%matplotlib inline\n",
    "import netCDF4\n",
    "import numpy as np\n",
    "import matplotlib.pyplot as plt\n",
    "from matplotlib import animation\n",
    "from JSAnimation import IPython_display"
   ]
  },
  {
   "cell_type": "code",
   "execution_count": null,
   "metadata": {
    "collapsed": false
   },
   "outputs": [],
   "source": [
    "nc_data = netCDF4.Dataset('./myprofile3/xboutput.nc')\n",
    "nc_data2 = netCDF4.Dataset('./myprofile4/xboutput.nc')\n",
    "print nc_data.variables.keys()"
   ]
  },
  {
   "cell_type": "markdown",
   "metadata": {},
   "source": [
    "To query the type/definition of each of the `netcdf` keys we can do:"
   ]
  },
  {
   "cell_type": "code",
   "execution_count": null,
   "metadata": {
    "collapsed": false
   },
   "outputs": [],
   "source": [
    "nc_data.variables['H']"
   ]
  },
  {
   "cell_type": "markdown",
   "metadata": {},
   "source": [
    "# Get visualisation parameters"
   ]
  },
  {
   "cell_type": "code",
   "execution_count": null,
   "metadata": {
    "collapsed": false
   },
   "outputs": [],
   "source": [
    "# Export the stored time values\n",
    "times = nc_data.variables['globaltime'][:]\n",
    "\n",
    "# Export the X-axis values of the profile\n",
    "xprofile = nc_data.variables['globalx'][0,:]\n",
    "\n",
    "# Export the bed elevation\n",
    "bed_elev = nc_data.variables['zb'][:,0,:]\n",
    "bed_elev2 = nc_data2.variables['zb'][:,0,:]\n",
    "\n",
    "# Export the wave height\n",
    "wave_height = nc_data.variables['H'][:,0,:]\n",
    "wave_height2 = nc_data2.variables['H'][:,0,:]\n",
    "\n",
    "# Export the water level\n",
    "water_lvl = nc_data.variables['zs'][:,0,:]\n",
    "water_lvl2 = nc_data2.variables['zs'][:,0,:]"
   ]
  },
  {
   "cell_type": "markdown",
   "metadata": {},
   "source": [
    "## Check parameters shape\n",
    "\n",
    "The shape of an array gives us the dimension of the dataset we are looking at:"
   ]
  },
  {
   "cell_type": "code",
   "execution_count": null,
   "metadata": {
    "collapsed": false
   },
   "outputs": [],
   "source": [
    "print 'shape time values: ',times.shape\n",
    "print 'shape X-axis profile: ',xprofile.shape\n",
    "print 'shape bed elevation: ',bed_elev.shape\n",
    "print 'shape wave height: ',wave_height.shape\n",
    "print 'shape water level: ',water_lvl.shape"
   ]
  },
  {
   "cell_type": "markdown",
   "metadata": {},
   "source": [
    "# Plotting XBeach model at a given time\n",
    "\n",
    "To plot the model result for a given time we can define a function that will handle the process automatically. To define a function in IPython we use the following keyword: `def`"
   ]
  },
  {
   "cell_type": "code",
   "execution_count": null,
   "metadata": {
    "collapsed": false
   },
   "outputs": [],
   "source": [
    "# FID is the frame ID: an integer defining the time step we want to plot\n",
    "def xbeach_frame1(FID):\n",
    "    \n",
    "    # Set figure size\n",
    "    fig, ax1 = plt.subplots(figsize=(10,5), dpi=80) \n",
    "    axes = plt.gca()\n",
    "    \n",
    "    # Set extend of computational domain\n",
    "    axes.set_xlim([0,5000])\n",
    "    axes.set_ylim([-50,20])\n",
    "\n",
    "    # Define the base of the model\n",
    "    base = np.zeros(len(xprofile[:]))\n",
    "    base.fill(-60)\n",
    "    \n",
    "    # Define bed elevation for given frame ID\n",
    "    bed = bed_elev[FID,:]\n",
    "    ax1.plot(xprofile[:],bed,linewidth=2.0,color=[139./255.,131./255.,120./255.])\n",
    "    ax1.fill_between(xprofile[:], base, bed, where=bed >= base, facecolor=[1.0,0.9,0.6], interpolate=True)\n",
    "\n",
    "    # Define top water surface  \n",
    "    sea = water_lvl[FID,:] + wave_height[FID,:]\n",
    "    ax1.plot(xprofile[:],sea,linewidth=2.0,color=[0./255.,0./255.,128./255.])\n",
    "    ax1.fill_between(xprofile[:], bed, sea, where= sea > bed, facecolor=[0.7,0.9,1.0], interpolate=True)\n",
    "\n",
    "    # Axes definitions\n",
    "    tlt='XBeach model 1 time:'+str(int(times[FID]))+' s'\n",
    "    plt.title(tlt, fontsize=12)\n",
    "    ax1.set_ylabel('elevation [m]', fontsize=12)\n",
    "    ax1.set_xlabel('lenght [m]', fontsize=12)\n",
    "    plt.setp(ax1.get_xticklabels(), fontsize=10)\n",
    "    plt.setp(ax1.get_yticklabels(), fontsize=10)\n",
    "    \n",
    "    # Set legend\n",
    "    names=['zb','H+zs']\n",
    "    ax1.legend(names,loc='lower right', fontsize=11)\n",
    "    plt.show()\n",
    "    \n",
    "def xbeach_frame2(FID):\n",
    "    \n",
    "    # Set figure size\n",
    "    fig, ax1 = plt.subplots(figsize=(10,5), dpi=80) \n",
    "    axes = plt.gca()\n",
    "    \n",
    "    # Set extend of computational domain\n",
    "    axes.set_xlim([0,5000])\n",
    "    axes.set_ylim([-50,20])\n",
    "\n",
    "    # Define the base of the model\n",
    "    base = np.zeros(len(xprofile[:]))\n",
    "    base.fill(-60)\n",
    "    \n",
    "    # Define bed elevation for given frame ID\n",
    "    bed = bed_elev2[FID,:]\n",
    "    ax1.plot(xprofile[:],bed,linewidth=2.0,color=[139./255.,131./255.,120./255.])\n",
    "    ax1.fill_between(xprofile[:], base, bed, where=bed >= base, facecolor=[1.0,0.9,0.6], interpolate=True)\n",
    "\n",
    "    # Define top water surface  \n",
    "    sea = water_lvl2[FID,:] + wave_height2[FID,:]\n",
    "    ax1.plot(xprofile[:],sea,linewidth=2.0,color=[0./255.,0./255.,128./255.])\n",
    "    ax1.fill_between(xprofile[:], bed, sea, where= sea > bed, facecolor=[0.7,0.9,1.0], interpolate=True)\n",
    "\n",
    "    # Axes definitions\n",
    "    tlt='XBeach model 2 time:'+str(int(times[FID]))+' s'\n",
    "    plt.title(tlt, fontsize=12)\n",
    "    ax1.set_ylabel('elevation [m]', fontsize=12)\n",
    "    ax1.set_xlabel('lenght [m]', fontsize=12)\n",
    "    plt.setp(ax1.get_xticklabels(), fontsize=10)\n",
    "    plt.setp(ax1.get_yticklabels(), fontsize=10)\n",
    "    \n",
    "    # Set legend\n",
    "    names=['zb','H+zs']\n",
    "    ax1.legend(names,loc='lower right', fontsize=11)\n",
    "    plt.show()"
   ]
  },
  {
   "cell_type": "markdown",
   "metadata": {},
   "source": [
    "Now we can simply call the function above for different time steps:"
   ]
  },
  {
   "cell_type": "code",
   "execution_count": null,
   "metadata": {
    "collapsed": false
   },
   "outputs": [],
   "source": [
    "xbeach_frame1(1500)\n",
    "xbeach_frame2(1500)"
   ]
  },
  {
   "cell_type": "markdown",
   "metadata": {},
   "source": [
    "# Making an animation of the results\n",
    "\n",
    "To visualise an animation of the water and profile evolution over the duration of the model we can use the following cell"
   ]
  },
  {
   "cell_type": "code",
   "execution_count": null,
   "metadata": {
    "collapsed": false
   },
   "outputs": [],
   "source": [
    "fig = plt.figure(figsize=(10,5))\n",
    "ax = plt.axes(xlim=(0, 5000), ylim=(-50, 20))\n",
    "plt.title('XBeach model run', fontsize=12)\n",
    "ax.set_ylabel('elevation [m]', fontsize=12)\n",
    "ax.set_xlabel('lenght [m]', fontsize=12)\n",
    "plt.setp(ax.get_xticklabels(), fontsize=10)\n",
    "plt.setp(ax.get_yticklabels(), fontsize=10)\n",
    "    \n",
    "name = ['initial zb','zb','H+zs']\n",
    "\n",
    "ax.plot(xprofile[:],bed_elev[0,:],'--', lw=1,color='k')\n",
    "\n",
    "line1, = ax.plot([], [], lw=2,color=[139./255.,131./255.,120./255.] )\n",
    "line2, = ax.plot([], [], lw=2,color=[0./255.,0./255.,128./255.])\n",
    "\n",
    "# Initialization function: plot the background of each frame\n",
    "def init():\n",
    "    line1.set_data([], [])\n",
    "    line2.set_data([], [])\n",
    "    return line1,line2, \n",
    "\n",
    "base = -60.\n",
    "top = np.zeros(len(xprofile[:]))\n",
    "top.fill(20.)\n",
    "\n",
    "# Animation function.  This is called sequentially\n",
    "def animate(i):\n",
    "    x = xprofile[:]\n",
    "    f1 = bed_elev[i,:]\n",
    "    sea = wave_height[i,:]+water_lvl[i,:]\n",
    "    f2 = sea\n",
    "    line1.set_data(x, f1)\n",
    "    line2.set_data(x, f2)\n",
    "    ax.fill_between(x, base, top, where= top > base, facecolor=[1.,1.,1.], interpolate=True)\n",
    "    ax.fill_between(x, base, f1, where=f1 >= base, facecolor=[1.0,0.9,0.6], interpolate=True)\n",
    "    ax.fill_between(x, f1, f2, where= f2 > f1, facecolor=[0.7,0.9,1.0], interpolate=True)\n",
    "    ax.legend(name,loc='lower right', fontsize=9)\n",
    "    return line1,line2 \n",
    "\n",
    "# Call the animator.  blit=True means only re-draw the parts that have changed.\n",
    "animation.FuncAnimation(fig, animate, init_func=init, frames=np.arange(0, 10000, 50), interval=200, blit=True)"
   ]
  },
  {
   "cell_type": "code",
   "execution_count": null,
   "metadata": {
    "collapsed": true
   },
   "outputs": [],
   "source": []
  }
 ],
 "metadata": {
  "kernelspec": {
   "display_name": "Python 2",
   "language": "python",
   "name": "python2"
  },
  "language_info": {
   "codemirror_mode": {
    "name": "ipython",
    "version": 2
   },
   "file_extension": ".py",
   "mimetype": "text/x-python",
   "name": "python",
   "nbconvert_exporter": "python",
   "pygments_lexer": "ipython2",
   "version": "2.7.6"
  }
 },
 "nbformat": 4,
 "nbformat_minor": 0
}
