{
 "cells": [
  {
   "cell_type": "code",
   "execution_count": 11,
   "metadata": {
    "collapsed": false
   },
   "outputs": [
    {
     "name": "stdout",
     "output_type": "stream",
     "text": [
      "Where are we?\n",
      "/workspace\n",
      "CoastalEvol  GeolProc\t      dataset\t     volume\n",
      "DataQuery    StartHere.ipynb  refresh.ipynb\n",
      "Remove previous folder\n",
      "refresh.ipynb  volume\n",
      "Get folder from github\n",
      "Cloning into '/workspace/geos_new'...\n",
      "remote: Counting objects: 123, done.\u001b[K\n",
      "remote: Total 123 (delta 0), reused 0 (delta 0), pack-reused 123\u001b[K\n",
      "Receiving objects: 100% (123/123), 24.43 MiB | 13.22 MiB/s, done.\n",
      "Resolving deltas: 100% (44/44), done.\n",
      "Checking connectivity... done.\n",
      "Clean...\n",
      "CoastalEvol  GeolProc\t      dataset\t     volume\n",
      "DataQuery    StartHere.ipynb  refresh.ipynb\n"
     ]
    }
   ],
   "source": [
    "print 'Where are we?'\n",
    "!pwd\n",
    "!ls\n",
    "print 'Remove previous folder'\n",
    "!rm -rf CoastalEvol/ GeolProc/ DataQuery/ StartHere.ipynb dataset/\n",
    "!ls\n",
    "print 'Get folder from github'\n",
    "!git clone https://github.com/tristan-salles/LABS-GEOS3009.git /workspace/geos_new/\n",
    "!mv geos_new/GEOS3009/* /workspace\n",
    "print 'Clean...'\n",
    "!rm -rf geos_new\n",
    "!ls"
   ]
  },
  {
   "cell_type": "code",
   "execution_count": null,
   "metadata": {
    "collapsed": true
   },
   "outputs": [],
   "source": []
  }
 ],
 "metadata": {
  "kernelspec": {
   "display_name": "Python 2",
   "language": "python",
   "name": "python2"
  },
  "language_info": {
   "codemirror_mode": {
    "name": "ipython",
    "version": 2
   },
   "file_extension": ".py",
   "mimetype": "text/x-python",
   "name": "python",
   "nbconvert_exporter": "python",
   "pygments_lexer": "ipython2",
   "version": "2.7.9"
  }
 },
 "nbformat": 4,
 "nbformat_minor": 0
}
